{
 "cells": [
  {
   "cell_type": "markdown",
   "metadata": {},
   "source": [
    "## DATA 602 Fall 2024 - Assignment 7\n",
    "### Stephanie Chiang\n",
    "\n",
    "## NYC SHSAT\n",
    "\n",
    "For this assignment, I will examine the NYC middle schools and the numbers of students who \"participated in High School Admissions, the number of those students who took the Specialized High Schools Admissions Test (SHSAT) and the number who received an offer to one of the 8 testing Specialized High Schools\" for the 2020-2021 school year.\n",
    "\n",
    "The raw file for the *2020-2021 SHSAT Admissions Test Offers By Sending School*, provided by the NYC Department of Education, is available for download [here](\"https://data.cityofnewyork.us/Education/2020-2021-SHSAT-Admissions-Test-Offers-By-Sending-/k8ah-28f4/about_data\").\n",
    "\n",
    "\n",
    "### Data Exploration\n",
    "\n",
    "- importing the dataset and creating dataframes\n",
    "- missing value information\n",
    "- relevant information about the dataset\n",
    "- summary statistics means, medians, quartiles"
   ]
  },
  {
   "cell_type": "code",
   "execution_count": 129,
   "metadata": {},
   "outputs": [
    {
     "name": "stdout",
     "output_type": "stream",
     "text": [
      "DBN         0\n",
      "school      0\n",
      "hs_bound    0\n",
      "testers     0\n",
      "offers      0\n",
      "dtype: int64\n",
      "(658, 5)\n",
      "DBN         object\n",
      "school      object\n",
      "hs_bound    object\n",
      "testers     object\n",
      "offers      object\n",
      "dtype: object\n"
     ]
    }
   ],
   "source": [
    "import pandas as pd\n",
    "\n",
    "data = pd.read_csv(\"2021shsat.csv\")\n",
    "\n",
    "# modifying multiple column names to more code-friendly format\n",
    "data.rename(\n",
    "  columns = {\n",
    "    \"Feeder School DBN\": \"DBN\",\n",
    "    \"Feeder School Name\": \"school\",\n",
    "    \"Count of Students in HS Admissions\": \"hs_bound\",\n",
    "    \"Count of Testers\": \"testers\",\n",
    "    \"Number of Offers\": \"offers\"\n",
    "  },\n",
    "  inplace = True\n",
    ")\n",
    "\n",
    "print(data.isna().sum())\n",
    "# there appears to be no missing data\n",
    "\n",
    "print(data.shape)\n",
    "# there are 658 rows (observations) and 5 columns:\n",
    "# the middle school's District/Borough Number\n",
    "# the name of the middle school\n",
    "# the number of students who participated in HS admissions\n",
    "# the number of studetns who took the SHSAT\n",
    "# and the number of students who received an offer\n",
    "\n",
    "print(data.dtypes)\n",
    "# all the columns are listed as 'object' which indicates mixed types or categorical features\n",
    "# this is because '0-5' appears as a (very common) possible value\n",
    "# so pandas was unable to automatically convert these columns to integer types"
   ]
  },
  {
   "cell_type": "markdown",
   "metadata": {},
   "source": [
    "\n",
    "The last 3 columns include values of \"0-5\" for any count of 5 students or fewer. There are a few different ways this could be handled, but for the sake of calculating summary statistics, I will convert these columns to floats, with a mean of 2.5 for the \"0-5\" values. Since there are no half-students counted in the original data, this means they can still be grouped easily from the rest of the data."
   ]
  },
  {
   "cell_type": "code",
   "execution_count": 130,
   "metadata": {},
   "outputs": [
    {
     "name": "stdout",
     "output_type": "stream",
     "text": [
      "DBN          object\n",
      "school       object\n",
      "hs_bound    float64\n",
      "testers     float64\n",
      "offers      float64\n",
      "dtype: object\n",
      "      DBN                                          school  hs_bound  testers  \\\n",
      "0  01M034         P.S. 034 FRANKLIN D. ROOSEVELT (01M034)      44.0      2.5   \n",
      "1  01M140                 P.S. 140 NATHAN STRAUS (01M140)      56.0      9.0   \n",
      "2  01M184                   P.S. 184M SHUANG WEN (01M184)     112.0     79.0   \n",
      "3  01M188             P.S. 188 THE ISLAND SCHOOL (01M188)      49.0      2.5   \n",
      "4  01M332  UNIVERSITY NEIGHBORHOOD MIDDLE SCHOOL (01M332)      70.0     10.0   \n",
      "\n",
      "   offers  \n",
      "0     2.5  \n",
      "1     2.5  \n",
      "2    29.0  \n",
      "3     2.5  \n",
      "4     2.5  \n"
     ]
    },
    {
     "name": "stderr",
     "output_type": "stream",
     "text": [
      "/var/folders/5l/929tcvh574j7lmd1ftkn9bth0000gn/T/ipykernel_50105/1897836685.py:3: FutureWarning: A value is trying to be set on a copy of a DataFrame or Series through chained assignment using an inplace method.\n",
      "The behavior will change in pandas 3.0. This inplace method will never work because the intermediate object on which we are setting values always behaves as a copy.\n",
      "\n",
      "For example, when doing 'df[col].method(value, inplace=True)', try using 'df.method({col: value}, inplace=True)' or df[col] = df[col].method(value) instead, to perform the operation inplace on the original object.\n",
      "\n",
      "\n",
      "  data[\"hs_bound\"].where(data[\"hs_bound\"] != \"0-5\", \"2.5\", inplace=True)\n",
      "/var/folders/5l/929tcvh574j7lmd1ftkn9bth0000gn/T/ipykernel_50105/1897836685.py:4: FutureWarning: A value is trying to be set on a copy of a DataFrame or Series through chained assignment using an inplace method.\n",
      "The behavior will change in pandas 3.0. This inplace method will never work because the intermediate object on which we are setting values always behaves as a copy.\n",
      "\n",
      "For example, when doing 'df[col].method(value, inplace=True)', try using 'df.method({col: value}, inplace=True)' or df[col] = df[col].method(value) instead, to perform the operation inplace on the original object.\n",
      "\n",
      "\n",
      "  data[\"testers\"].where(data[\"testers\"] != \"0-5\", \"2.5\", inplace=True)\n",
      "/var/folders/5l/929tcvh574j7lmd1ftkn9bth0000gn/T/ipykernel_50105/1897836685.py:5: FutureWarning: A value is trying to be set on a copy of a DataFrame or Series through chained assignment using an inplace method.\n",
      "The behavior will change in pandas 3.0. This inplace method will never work because the intermediate object on which we are setting values always behaves as a copy.\n",
      "\n",
      "For example, when doing 'df[col].method(value, inplace=True)', try using 'df.method({col: value}, inplace=True)' or df[col] = df[col].method(value) instead, to perform the operation inplace on the original object.\n",
      "\n",
      "\n",
      "  data[\"offers\"].where(data[\"offers\"] != \"0-5\", \"2.5\", inplace=True)\n"
     ]
    }
   ],
   "source": [
    "# convert variables to proper types\n",
    "\n",
    "data[\"hs_bound\"] = data[\"hs_bound\"].where(data[\"hs_bound\"] != \"0-5\", \"2.5\")\n",
    "data[\"testers\"] = data[\"testers\"].where(data[\"testers\"] != \"0-5\", \"2.5\")\n",
    "data[\"offers\"] = data[\"offers\"].where(data[\"offers\"] != \"0-5\", \"2.5\")\n",
    "\n",
    "data[[\"hs_bound\", \"testers\", \"offers\"]] = data[[\"hs_bound\", \"testers\", \"offers\"]].astype(float)\n",
    "\n",
    "print(data.dtypes)\n",
    "print(data.head(5))"
   ]
  },
  {
   "cell_type": "code",
   "execution_count": 131,
   "metadata": {},
   "outputs": [
    {
     "name": "stdout",
     "output_type": "stream",
     "text": [
      "110.29103343465046\n",
      "33.48176291793313\n",
      "7.302431610942249\n",
      "77.0\n",
      "16.0\n",
      "2.5\n",
      "0.25     48.00\n",
      "0.50     77.00\n",
      "0.75    119.75\n",
      "Name: hs_bound, dtype: float64\n",
      "0.25     7.0\n",
      "0.50    16.0\n",
      "0.75    33.0\n",
      "Name: testers, dtype: float64\n",
      "0.25    2.5\n",
      "0.50    2.5\n",
      "0.75    2.5\n",
      "Name: offers, dtype: float64\n"
     ]
    }
   ],
   "source": [
    "\n",
    "# summary statistics: means, medians, quartiles\n",
    "\n",
    "mean_h = data['hs_bound'].mean()\n",
    "mean_t = data['testers'].mean()\n",
    "mean_o = data['offers'].mean()\n",
    "\n",
    "print(mean_h)\n",
    "print(mean_t)\n",
    "print(mean_o)\n",
    "\n",
    "median_h = data['hs_bound'].median()\n",
    "median_t = data['testers'].median()\n",
    "median_o = data['offers'].median()\n",
    "\n",
    "print(median_h)\n",
    "print(median_t)\n",
    "print(median_o)\n",
    "\n",
    "quartiles_h = data['hs_bound'].quantile([0.25, 0.5, 0.75])\n",
    "quartiles_t = data['testers'].quantile([0.25, 0.5, 0.75])\n",
    "quartiles_o = data['offers'].quantile([0.25, 0.5, 0.75])\n",
    "\n",
    "print(quartiles_h)\n",
    "print(quartiles_t)\n",
    "print(quartiles_o)\n"
   ]
  },
  {
   "cell_type": "markdown",
   "metadata": {},
   "source": [
    "### DATA WRANGLING"
   ]
  },
  {
   "cell_type": "code",
   "execution_count": 132,
   "metadata": {},
   "outputs": [
    {
     "name": "stdout",
     "output_type": "stream",
     "text": [
      "      DBN                                          school  hs_bound  testers  \\\n",
      "0  01M034         P.S. 034 FRANKLIN D. ROOSEVELT (01M034)      44.0      2.5   \n",
      "1  01M140                 P.S. 140 NATHAN STRAUS (01M140)      56.0      9.0   \n",
      "2  01M184                   P.S. 184M SHUANG WEN (01M184)     112.0     79.0   \n",
      "3  01M188             P.S. 188 THE ISLAND SCHOOL (01M188)      49.0      2.5   \n",
      "4  01M332  UNIVERSITY NEIGHBORHOOD MIDDLE SCHOOL (01M332)      70.0     10.0   \n",
      "\n",
      "   offers  pct_testers  pct_offers  \n",
      "0     2.5     0.056818    0.056818  \n",
      "1     2.5     0.160714    0.044643  \n",
      "2    29.0     0.705357    0.258929  \n",
      "3     2.5     0.051020    0.051020  \n",
      "4     2.5     0.142857    0.035714  \n",
      "(657, 6)\n"
     ]
    }
   ],
   "source": [
    "# Create new columns based on existing columns or calculations.\n",
    "data[\"pct_testers\"] = data[\"testers\"] / data[\"hs_bound\"]\n",
    "data[\"pct_offers\"] = data[\"offers\"] / data[\"hs_bound\"]\n",
    "\n",
    "print(data.head(5))\n",
    "\n",
    "# Drop column(s) from your dataset.\n",
    "data = data.drop([\"DBN\"], axis=1)\n",
    "\n",
    "# Drop a row(s) from your dataset.\n",
    "idx_max = data['hs_bound'].idxmax()\n",
    "data = data.drop([idx_max])\n",
    "\n",
    "print(data.shape)"
   ]
  },
  {
   "cell_type": "code",
   "execution_count": null,
   "metadata": {},
   "outputs": [],
   "source": [
    "# Sort your data based on multiple variables.\n",
    "data = data.sort_values(by=['pct_offers', 'school'], ascending=[False, True])\n",
    "\n",
    "print(data.head(5))\n",
    "\n",
    "# Filter your data based on some condition.\n",
    "ignore_small_vals = data[data[\"testers\"] != 2.5]\n",
    "\n",
    "print(ignore_small_vals.head(5))\n",
    "\n",
    "# Convert all the string values to upper or lower cases in one column.\n",
    "data_lower = data[\"school\"].str.lower()\n",
    "\n",
    "print(data_lower.head(5))\n"
   ]
  },
  {
   "cell_type": "code",
   "execution_count": null,
   "metadata": {},
   "outputs": [],
   "source": [
    "\n",
    "# Group your dataset by one column, and get the mean, min, and max values by group.\n",
    "\n",
    "grouped_data = data.groupby(\"school\").agg({\"hs_bound\": [\"mean\", \"min\", \"max\"], \"testers\": [\"mean\", \"min\", \"max\"], \"offers\": [\"mean\", \"min\", \"max\"]})\n",
    "\n",
    "\n",
    "# Groupby()\n",
    "# agg() or .apply()\n",
    "# Group your dataset by two columns and then sort the aggregated results within the groups."
   ]
  },
  {
   "cell_type": "markdown",
   "metadata": {},
   "source": [
    "\n",
    "### CONCLUSIONS\n",
    "After exploring your dataset, provide a short summary of what you noticed from this dataset. What would you explore further with more time?"
   ]
  }
 ],
 "metadata": {
  "kernelspec": {
   "display_name": "Python 3",
   "language": "python",
   "name": "python3"
  },
  "language_info": {
   "codemirror_mode": {
    "name": "ipython",
    "version": 3
   },
   "file_extension": ".py",
   "mimetype": "text/x-python",
   "name": "python",
   "nbconvert_exporter": "python",
   "pygments_lexer": "ipython3",
   "version": "3.9.1"
  }
 },
 "nbformat": 4,
 "nbformat_minor": 2
}
